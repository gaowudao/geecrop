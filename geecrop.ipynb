{
 "cells": [
  {
   "cell_type": "code",
   "execution_count": 138,
   "metadata": {},
   "outputs": [
    {
     "data": {
      "text/html": [
       "<img src=\"https://earthengine.googleapis.com/v1alpha/projects/earthengine-legacy/thumbnails/9ef5fae22d4e8fa1be3a80ea140b91bf-41877025c8c9b47fe4e3f627b7903442:getPixels\" width=\"256\"/>"
      ],
      "text/plain": [
       "<IPython.core.display.Image object>"
      ]
     },
     "execution_count": 138,
     "metadata": {},
     "output_type": "execute_result"
    }
   ],
   "source": [
    "import ee\n",
    "from IPython.display import Image\n",
    "#ee.Authenticate()\n",
    "ee.Initialize()\n",
    "\n",
    "nceo_logo = ee.Image(\"users/marcyinfeng/NCEO_logo\");\n",
    "ucl_logo = ee.Image(\"users/marcyinfeng/UCL_logo\");\n",
    "Image(url = ucl_logo.getThumbUrl({'bands':['b1','b2','b3'],min:0,max:255}),width=256)"
   ]
  },
  {
   "cell_type": "code",
   "execution_count": 139,
   "metadata": {},
   "outputs": [],
   "source": [
    "data_list['2020'] = ['users/uclgeogeo/EastAnglia_2020_0_0_bio_paras',\n",
    "                  'users/uclgeogeo/EastAnglia_2020_0_1_bio_paras',\n",
    "                  'users/uclgeogeo/EastAnglia_2020_0_2_bio_paras',\n",
    "                  'users/uclgeogeo/EastAnglia_2020_0_3_bio_paras',\n",
    "                  'users/uclgeogeo/EastAnglia_2020_1_0_bio_paras',\n",
    "                  'users/uclgeogeo/EastAnglia_2020_1_1_bio_paras',\n",
    "                  'users/uclgeogeo/EastAnglia_2020_1_2_bio_paras',\n",
    "                  'users/uclgeogeo/EastAnglia_2020_1_3_bio_paras',\n",
    "                  'users/uclgeogeo/EastAnglia_2020_2_0_bio_paras',\n",
    "                  'users/uclgeogeo/EastAnglia_2020_2_1_bio_paras',\n",
    "                  'users/uclgeogeo/EastAnglia_2020_2_2_bio_paras',\n",
    "                  'users/uclgeogeo/EastAnglia_2020_2_3_bio_paras',\n",
    "                  'users/uclgeogeo/EastAnglia_2020_3_0_bio_paras',\n",
    "                  'users/uclgeogeo/EastAnglia_2020_3_1_bio_paras',\n",
    "                  'users/uclgeogeo/EastAnglia_2020_3_2_bio_paras',\n",
    "                  'users/uclgeogeo/EastAnglia_2020_3_3_bio_paras']\n",
    "\n",
    "data_list['2019'] = ['users/marcfengyin/EastAnglia_2019_1_1_bio_paras',\n",
    "             'users/marcfengyin/EastAnglia_2019_1_2_bio_paras',\n",
    "             'users/marcfengyin/EastAnglia_2019_1_3_bio_paras',\n",
    "             'users/marcfengyin/EastAnglia_2019_2_0_bio_paras',\n",
    "             'users/marcfengyin/EastAnglia_2019_2_1_bio_paras',\n",
    "             'users/uclgeogeo/EastAnglia_2019_2_2_bio_paras',\n",
    "             'users/uclgeogeo/EastAnglia_2019_2_3_bio_paras',\n",
    "             'users/uclgeogeo/EastAnglia_2019_3_0_bio_paras',\n",
    "             'users/uclgeogeo/EastAnglia_2019_3_1_bio_paras',\n",
    "             'users/uclgeogeo/EastAnglia_2019_3_2_bio_paras',\n",
    "             'users/uclgeogeo/EastAnglia_2019_3_3_bio_paras',\n",
    "             'users/marcollinbobo/EastAnglia_2019_0_0_bio_paras',\n",
    "             'users/marcollinbobo/EastAnglia_2019_0_1_bio_paras',\n",
    "             'users/marcollinbobo/EastAnglia_2019_0_2_bio_paras',\n",
    "             'users/marcollinbobo/EastAnglia_2019_0_3_bio_paras',\n",
    "             'users/marcollinbobo/EastAnglia_2019_1_0_bio_paras']\n"
   ]
  },
  {
   "cell_type": "code",
   "execution_count": 140,
   "metadata": {},
   "outputs": [],
   "source": [
    "data_list['2018'] = ['users/marcyinfeng/EastAnglia_2018_2_2_bio_paras',\n",
    "                  'users/marcyinfeng/EastAnglia_2018_2_1_bio_paras',\n",
    "                  'users/marcfengyin/EastAnglia_2018_2_0_bio_paras',\n",
    "                  'users/marcollinbobo/EastAnglia_2018_0_0_0_0_bio_paras',\n",
    "                  'users/marcollinbobo/EastAnglia_2018_0_0_0_1_bio_paras',\n",
    "                  'users/marcollinbobo/EastAnglia_2018_0_0_1_0_bio_paras',\n",
    "                  'users/marcollinbobo/EastAnglia_2018_0_0_1_1_bio_paras',\n",
    "                  'users/marcfengyin/EastAnglia_2018_1_0_bio_paras',\n",
    "                  'users/marcfengyin/EastAnglia_2018_1_2_bio_paras',\n",
    "                  'users/uclgeogeo/EastAnglia_2018_1_0_0_1_bio_paras',\n",
    "                  'users/uclgeogeo/EastAnglia_2018_1_1_0_0_bio_paras',\n",
    "                  'users/marcfengyin/EastAnglia_2018_0_1_0_0_bio_paras',\n",
    "                  'users/marcollinbobo/EastAnglia_2018_0_1_0_0_bio_paras',\n",
    "                  'users/marcollinbobo/EastAnglia_2018_0_1_1_1_bio_paras',\n",
    "                  'users/marcfengyin/EastAnglia_2018_0_1_0_1_bio_paras',\n",
    "                  'users/marcollinbobo/EastAnglia_2018_0_1_1_0_bio_paras']\n",
    "\n",
    "\n",
    "data_list['2016'] = ['users/marcollinbobo/EastAnglia_2016_0_0_bio_paras_new',\n",
    "                  'users/marcollinbobo/EastAnglia_2016_0_1_bio_paras_new',\n",
    "                  'users/marcollinbobo/EastAnglia_2016_0_2_bio_paras_new',\n",
    "                  'users/marcollinbobo/EastAnglia_2016_0_3_bio_paras_new',\n",
    "                  'users/marcollinbobo/EastAnglia_2016_1_0_bio_paras_new',\n",
    "                  'users/marcollinbobo/EastAnglia_2016_1_1_bio_paras_new',\n",
    "                  'users/marcollinbobo/EastAnglia_2016_1_2_bio_paras_new',\n",
    "                  'users/marcollinbobo/EastAnglia_2016_1_3_bio_paras_new',\n",
    "                  'users/marcollinbobo/EastAnglia_2016_2_0_bio_paras_new',\n",
    "                  'users/marcollinbobo/EastAnglia_2016_2_1_bio_paras_new',\n",
    "                  'users/marcollinbobo/EastAnglia_2016_2_2_bio_paras_new',\n",
    "                  'users/marcollinbobo/EastAnglia_2016_2_3_bio_paras_new',\n",
    "                  'users/marcollinbobo/EastAnglia_2016_3_0_bio_paras_new',\n",
    "                  'users/marcollinbobo/EastAnglia_2016_3_1_bio_paras_new',\n",
    "                  'users/marcollinbobo/EastAnglia_2016_3_2_bio_paras_new',\n",
    "                  'users/marcollinbobo/EastAnglia_2016_3_3_bio_paras_new']\n",
    "\n",
    "data_list['2017'] = ['users/uclgeogeo/EastAnglia_2017_0_0_bio_paras_new',\n",
    "                  'users/uclgeogeo/EastAnglia_2017_0_1_bio_paras_new',\n",
    "                  'users/uclgeogeo/EastAnglia_2017_0_2_bio_paras_new',\n",
    "                  'users/uclgeogeo/EastAnglia_2017_0_3_bio_paras_new',\n",
    "                  'users/uclgeogeo/EastAnglia_2017_1_0_bio_paras_new',\n",
    "                  'users/uclgeogeo/EastAnglia_2017_1_1_bio_paras_new',\n",
    "                  'users/uclgeogeo/EastAnglia_2017_1_2_bio_paras_new',\n",
    "                  'users/uclgeogeo/EastAnglia_2017_1_3_bio_paras_new',\n",
    "                  'users/uclgeogeo/EastAnglia_2017_2_0_bio_paras_new',\n",
    "                  'users/uclgeogeo/EastAnglia_2017_2_1_bio_paras_new',\n",
    "                  'users/uclgeogeo/EastAnglia_2017_2_2_bio_paras_new',\n",
    "                  'users/uclgeogeo/EastAnglia_2017_2_3_bio_paras_new',\n",
    "                  'users/uclgeogeo/EastAnglia_2017_3_0_bio_paras_new',\n",
    "                  'users/uclgeogeo/EastAnglia_2017_3_1_bio_paras_new',\n",
    "                  'users/uclgeogeo/EastAnglia_2017_3_2_bio_paras_new',\n",
    "                  'users/uclgeogeo/EastAnglia_2017_3_3_bio_paras_new']"
   ]
  },
  {
   "cell_type": "code",
   "execution_count": 141,
   "metadata": {},
   "outputs": [],
   "source": [
    "'''\n",
    "Needs i: list index for bandname\n",
    "      year\n",
    "      image\n",
    "'''\n",
    "def selektor_data(i): \n",
    "    \n",
    "    '''\n",
    "    sort the date field and associated information for this band\n",
    "    '''\n",
    "    bandname = image.bandNames().getString(i)\n",
    "    #year = get_name(image).split('_')[-1]\n",
    "    start_date = ee.Date(ee.String(year).cat(ee.String('-01-01')))\n",
    "    # * 8 + 4\n",
    "    ndoy = ee.Number.parse(bandname.split('_').get(ee.Number(1))).multiply(ee.Number(8)).add(ee.Number(4))\n",
    "    nyear = ee.Number.parse(year)\n",
    "    image_date = start_date.advance(ndoy, 'day')\n",
    "    \n",
    "    parameter = bandname.split('_').get(-1)\n",
    "    image.select(bandname).set('parameter',bandname)\n",
    "    # \n",
    "    scale_factors_ee=ee.Dictionary(scale_factors)\n",
    "    \n",
    "    variable = bandname.split('_').get(-1)\n",
    "    scale = ee.Image(ee.Number(scale_factors_ee.get(variable)).float())\n",
    "    #\n",
    "    imageop = image.select(bandname)\\\n",
    "                   .divide(scale)\\\n",
    "                   .set('year',nyear)\\\n",
    "                   .set('doy',ndoy)\\\n",
    "                   .set('parameter',variable)\\\n",
    "                   .set('system:time_start', image_date)\\\n",
    "                   .rename(ee.String(variable).cat('_').cat(year).cat('_').cat(bandname))   \n",
    "    return imageop"
   ]
  },
  {
   "cell_type": "code",
   "execution_count": 177,
   "metadata": {},
   "outputs": [
    {
     "name": "stdout",
     "output_type": "stream",
     "text": [
      "2019 0\n",
      "2018 1\n",
      "2016 2\n",
      "2017 3\n",
      "2020 4\n",
      "lai\n",
      "cab\n",
      "cw\n",
      "cbrown\n"
     ]
    }
   ],
   "source": [
    "# global scale factors\n",
    "# keys also used\n",
    "scale_factors = {'lai': 1000.,'cab': 10.,'cw' : 10000.,'cbrown': 1000.}\n",
    "\n",
    "for j,year in enumerate(data_list.keys()):\n",
    "    print(year,j)\n",
    "    image = ee.ImageCollection.fromImages([ee.Image(i) for i in data_list[year]]).median()\n",
    "    imageList = ee.ImageCollection.fromImages(\\\n",
    "                    ee.List.sequence(0,image.bandNames().length().subtract(1)\\\n",
    "                                    ).map(selektor_data))\n",
    "    if j == 0:\n",
    "        allImages = imageList\n",
    "    else:\n",
    "        allImages = imageList.merge(allImages)\n",
    "\n",
    "# empty dict\n",
    "data = {}\n",
    "for k in scale_factors.keys():\n",
    "    print(k)\n",
    "    data[k] = allImages.filterMetadata(\"parameter\",\"equals\",k)"
   ]
  },
  {
   "cell_type": "code",
   "execution_count": 185,
   "metadata": {},
   "outputs": [
    {
     "ename": "AttributeError",
     "evalue": "'ImageCollection' object has no attribute 'bandNames'",
     "output_type": "error",
     "traceback": [
      "\u001b[0;31m---------------------------------------------------------------------------\u001b[0m",
      "\u001b[0;31mAttributeError\u001b[0m                            Traceback (most recent call last)",
      "\u001b[0;32m<ipython-input-185-423218086cdf>\u001b[0m in \u001b[0;36m<module>\u001b[0;34m\u001b[0m\n\u001b[0;32m----> 1\u001b[0;31m \u001b[0mprint\u001b[0m\u001b[0;34m(\u001b[0m \u001b[0mdata\u001b[0m\u001b[0;34m[\u001b[0m\u001b[0mk\u001b[0m\u001b[0;34m]\u001b[0m\u001b[0;34m.\u001b[0m\u001b[0mbandNames\u001b[0m\u001b[0;34m(\u001b[0m\u001b[0;34m)\u001b[0m\u001b[0;34m.\u001b[0m\u001b[0mgetInfo\u001b[0m\u001b[0;34m(\u001b[0m\u001b[0;34m)\u001b[0m\u001b[0;34m)\u001b[0m\u001b[0;34m\u001b[0m\u001b[0;34m\u001b[0m\u001b[0m\n\u001b[0m",
      "\u001b[0;31mAttributeError\u001b[0m: 'ImageCollection' object has no attribute 'bandNames'"
     ]
    }
   ],
   "source": [
    "print( data[k].bandNames().getInfo())"
   ]
  },
  {
   "cell_type": "code",
   "execution_count": 167,
   "metadata": {},
   "outputs": [],
   "source": [
    "cm_2016_list = ['users/marcyinfeng/Crop_Map_of_England_2016_Cambridgeshire',\n",
    "                'users/marcyinfeng/Crop_Map_of_England_2016_Norfolk',\n",
    "                'users/marcyinfeng/Crop_Map_of_England_2016_Suffolk']\n",
    "cm_2017_list = ['users/marcyinfeng/Crop_Map_of_England_2017_Cambridgeshire',\n",
    "                'users/marcyinfeng/Crop_Map_of_England_2017_Norfolk',\n",
    "                'users/marcyinfeng/Crop_Map_of_England_2017_Suffolk']\n",
    "cm_2018_list = ['users/marcyinfeng/Crop_Map_of_England_2018_Cambridgeshire',\n",
    "                'users/marcyinfeng/Crop_Map_of_England_2018_Norfolk',\n",
    "                'users/marcyinfeng/Crop_Map_of_England_2018_Suffolk']\n",
    "cm_2019_list = ['users/marcfengyin/Crop_Map_of_England_2019_Cambridgeshire',\n",
    "                'users/marcfengyin/Crop_Map_of_England_2019_Norfolk',\n",
    "                'users/marcfengyin/Crop_Map_of_England_2019_Suffolk']"
   ]
  },
  {
   "cell_type": "code",
   "execution_count": null,
   "metadata": {},
   "outputs": [],
   "source": [
    "'''\n",
    "No date information in this version of the dataset\n",
    "\n",
    "so we have to add it back in here\n",
    "'''\n",
    "\n",
    "imageList = ee.ImageCollection.fromImages(ee.List.sequence(0, image.bandNames().length().subtract(1)).map(selektor_data))\n",
    "\n",
    "\n",
    "year='2016'\n",
    "cropparams_2016 = ee.ImageCollection.fromImages([selektor_data(ee.Image(i)) for i in data_2016_list]).median()\n",
    "cropparams_2017 = ee.ImageCollection.fromImages([ee.Image(i) for i in data_2017_list]).median()\n",
    "cropparams_2018 = ee.ImageCollection.fromImages([ee.Image(i) for i in data_2018_list]).median()\n",
    "cropparams_2019 = ee.ImageCollection.fromImages([ee.Image(i) for i in data_2019_list]).median()\n",
    "cropparams_2020 = ee.ImageCollection.fromImages([ee.Image(i) for i in data_2020_list]).median()\n",
    "\n",
    "\n",
    "cropmap_2016 = ee.ImageCollection.fromImages([ee.Image(i) for i in cm_2016_list]).median()\n",
    "cropmap_2017 = ee.ImageCollection.fromImages([ee.Image(i) for i in cm_2017_list]).median()\n",
    "cropmap_2018 = ee.ImageCollection.fromImages([ee.Image(i) for i in cm_2018_list]).median()\n",
    "cropmap_2019 = ee.ImageCollection.fromImages([ee.Image(i) for i in cm_2019_list]).median()\n",
    "\n",
    "# pull years from names using get_name()\n",
    "cropparams = [cropparams_2016, cropparams_2017, cropparams_2018, cropparams_2019, cropparams_2020]\n",
    "cropmap    = [   cropmap_2016,    cropmap_2017,    cropmap_2018,    cropmap_2019, None]\n",
    "\n",
    "years = [i.split('_')[1] for i in get_name(cropparams)]\n",
    "\n",
    "start_date = [ee.Date(ee.String(year).cat(ee.String('-01-01'))).millis() for year in years]\n",
    "\n",
    "# set the year system time\n",
    "cropparams =[x.set('system:time_start', y) for x,y in zip(cropparams,start_date)]\n",
    "\n",
    "'''\n",
    " var image = obs.select(ii)\n",
    "                   .divide(scale_factor)\n",
    "                   .rename(parameter)\n",
    "                   .set('system:time_start', time_start)\n",
    "'''\n",
    "\n",
    "def fix_feng_dataset(inputImage,\\\n",
    "             \n",
    "            ):\n",
    "    '''\n",
    "    Fix date, band names etc\n",
    "    \n",
    "    inputImage is ee.Image\n",
    "    \n",
    "    '''\n",
    "    bn = variable.bandNames()\n",
    "    parameters = scale_factors.keys()\n",
    "    # last one\n",
    "    ind = 0\n",
    "    obs = inputImage.select(ee.List.sequence(ind, bn.length().subtract(1), 4))\n",
    "    max_doy = obs.bandNames().length().subtract(1).multiply(8).add(4)\n",
    "\n",
    "    \n",
    "    doy = ee.List.sequence(4, max_doy, 8)\n",
    "\n",
    "    # scale factor dictionary: add this to metadata\n",
    "    \n",
    "\n",
    "    \n",
    "\n",
    "# year times\n",
    "# print([i.get('system:time_start').getInfo() for i in xx])"
   ]
  },
  {
   "cell_type": "code",
   "execution_count": null,
   "metadata": {},
   "outputs": [],
   "source": []
  },
  {
   "cell_type": "code",
   "execution_count": null,
   "metadata": {},
   "outputs": [],
   "source": [
    "\n",
    "print(cropparams_2016.getInfo())"
   ]
  },
  {
   "cell_type": "code",
   "execution_count": null,
   "metadata": {},
   "outputs": [],
   "source": [
    "\n",
    "def to_col(ii):\n",
    "    /*\n",
    "    ** needs:\n",
    "    **   year,obs,scale_factor,parameter\n",
    "    */\n",
    "    ii = ee.Number(ii).int()\n",
    "    value = doy.get(ii)\n",
    "    \n",
    "    start_date = ee.Date(ee.String(year).cat(ee.String('-01-01')))\n",
    "    image_date = start_date.advance(ee.Number(value).int(), 'day')\n",
    "    # var image = obs.filterDate(image_date, image_date.advance(1, 'day')).mean()\n",
    "    time_start = image_date.millis()\n",
    "    \n",
    "    image = obs.select(ii)\n",
    "                   .divide(scale_factor)\n",
    "                   .rename(parameter)\n",
    "                   .set('system:time_start', time_start)\n",
    "    return image\n",
    "\n",
    "def imagefn(image,year,buff_size):\n",
    "    med_val =  image.reduceRegion({                         \n",
    "                            reducer: ee.Reducer.median(),                          \n",
    "                            geometry: aoi.buffer(buff_size),                          \n",
    "                            scale: 10,                         \n",
    "                            maxPixels: 1e13                         \n",
    "                            }).values()\n",
    "    date = image.date()\n",
    "    start_date = ee.Date(ee.String(year).cat(ee.String('-01-01'))\n",
    "\n",
    "def get_obs(aoi, year, parameter):\n",
    "    \n",
    "    year_paras = {'2016': EastAnglia_2016,\n",
    "                  '2017': EastAnglia_2017,\n",
    "                  '2018': EastAnglia_2018,\n",
    "                  '2019': EastAnglia_2019,\n",
    "                 }\n",
    "\n",
    "    paras     = {'lai': 0,\n",
    "                 'cab': 1,\n",
    "                 'cw': 2,\n",
    "                 'cbrown': 3\n",
    "                }\n",
    "\n",
    " \n",
    "\n",
    "    \n",
    "    doy = ee.List.sequence(4, 360, 8)\n",
    "    scale_factor = ee.Number(ee.Dictionary(scale_factors).get(parameter))\n",
    "    ind = ee.Number(ee.Dictionary(paras).get(parameter))\n",
    "    bn = EastAnglia_2018.bandNames()\n",
    "\n",
    "    image = ee.Image(ee.Dictionary(year_paras).get(year))\n",
    "    obs = image.select(ee.List.sequence(ind, bn.length().subtract(1), 4))\n",
    "\n",
    "    mobs = ee.List.sequence(0, doy.length().subtract(1)).map(to_col)\n",
    "    mobs = ee.ImageCollection.fromImages(mobs)\n",
    "    #sobs = smoother.smoother(mobs, 0.5, 2, 1).select(['smoothed'], ['lai'])\n",
    "  "
   ]
  },
  {
   "cell_type": "code",
   "execution_count": null,
   "metadata": {},
   "outputs": [],
   "source": [
    "import numpy as np\n",
    "def get_doy(image):\n",
    "  date = image.date()\n",
    "  start_date = ee.Date(ee.String(year).cat(ee.String('-01-01')))\n",
    "  doy      = date.difference(start_date, 'day').int()\n",
    "  return ee.Feature(null, {'doy': doy})\n",
    "\n",
    "def int2str(value):\n",
    "  return ee.String(ee.Number(value).int())\n",
    "\n",
    "def doyvalue(value):\n",
    "    ind = doy.indexOf(value)\n",
    "    return values.get(ind)\n",
    "\n",
    "def get_year_val(values, doy):\n",
    "  doy = ee.List(doy).distinct()\n",
    "  values = doy.map(doyvalue) \n",
    "      \n",
    "  doy = ee.List(doy).map(int2str)\n",
    "  x = ee.List.sequence(1, 365, 1).map(int2str)\n",
    "  empty_list = ee.List.repeat([np.nan], 365)\n",
    "  \n",
    "  empty = ee.Dictionary.fromLists(x, empty_list) \n",
    "  good = ee.Dictionary.fromLists(doy, values)\n",
    "  y = empty.combine(good)\n",
    "  y = y.values(x)\n",
    "  return y"
   ]
  },
  {
   "cell_type": "code",
   "execution_count": null,
   "metadata": {},
   "outputs": [],
   "source": []
  },
  {
   "cell_type": "code",
   "execution_count": null,
   "metadata": {},
   "outputs": [],
   "source": []
  },
  {
   "cell_type": "code",
   "execution_count": null,
   "metadata": {},
   "outputs": [],
   "source": [
    "foo = dict()\n",
    "\n",
    "lambda a : a + 10\n",
    "\n",
    "(f'{foo=}').split('=')[0]"
   ]
  },
  {
   "cell_type": "code",
   "execution_count": null,
   "metadata": {},
   "outputs": [],
   "source": [
    "EastAnglia_2019 = ee.ImageCollection.fromImages([ee.Image(i) for i in data_2019_list])\n",
    "\n",
    "#drange = EastAnglia_2019.reduceColumns(ee.Reducer.minMax(), [\"system:time_start\"])\n",
    "#print(drange.getInfo())"
   ]
  },
  {
   "cell_type": "code",
   "execution_count": null,
   "metadata": {},
   "outputs": [],
   "source": [
    "year='2019'\n",
    "\n",
    "def get_time_in_ms(doy):\n",
    "    image_date = start_date.advance(ee.Number(doy).int(), 'day')\n",
    "    time_start = image_date.millis()\n",
    "    return time_start\n",
    "\n",
    "# samples every 8 days\n",
    "start_date = ee.Date(ee.String(year).cat(ee.String('-01-01')))\n",
    "doymillis = ee.List.sequence(4, 360, 8).map(get_time_in_ms)\n",
    "doy.map(get_time).getInfo()"
   ]
  },
  {
   "cell_type": "code",
   "execution_count": null,
   "metadata": {},
   "outputs": [],
   "source": [
    "n = EastAnglia_2019.median().select('b_0_lai')\n",
    "print(n.date().getInfo())\n",
    "\n",
    "#arange = EastAnglia_2019.select('b_0_lai').reduceColumns(ee.Reducer.minMax(), [\"id\"])\n",
    "#print(arange.getInfo())\n",
    "\n",
    "\n",
    "#print(EastAnglia_2019.get(0).bandNames().getInfo())"
   ]
  },
  {
   "cell_type": "code",
   "execution_count": null,
   "metadata": {},
   "outputs": [],
   "source": [
    "ee.ImageCollection.fromImages([ee.Image(i) for i in data_2019_list]).getInfo()"
   ]
  },
  {
   "cell_type": "code",
   "execution_count": null,
   "metadata": {
    "scrolled": true
   },
   "outputs": [],
   "source": [
    "import folium\n",
    "\n",
    "\n",
    "# Define a method for displaying Earth Engine image tiles to folium map.\n",
    "def add_ee_layer(self, ee_image_object, vis_params, name):\n",
    "  map_id_dict = ee.Image(ee_image_object).getMapId(vis_params)\n",
    "  folium.raster_layers.TileLayer(\n",
    "    tiles = map_id_dict['tile_fetcher'].url_format,\n",
    "    attr = 'Map Data &copy; <a href=\"https://earthengine.google.com/\">Google Earth Engine</a>',\n",
    "    name = name,\n",
    "    overlay = True,\n",
    "    control = True\n",
    "  ).add_to(self)\n",
    "\n",
    "# Add EE drawing method to folium.\n",
    "folium.Map.add_ee_layer = add_ee_layer\n",
    "\n",
    "# Set visualization parameters.\n",
    "vis_params = {}\n",
    "\n",
    "# Create a folium map object.\n",
    "my_map = folium.Map(location=[52.5, 1], zoom_start=10, height=500)\n",
    "\n",
    "# Add the elevation model to the map object.\n",
    "#my_map.add_ee_layer(EastAnglia_2016, vis_params, '2016')\n",
    "#my_map.add_ee_layer(EastAnglia_2017, vis_params, '2017')\n",
    "#my_map.add_ee_layer(EastAnglia_2018, vis_params, '2018')\n",
    "#my_map.add_ee_layer(EastAnglia_2019, vis_params, '2019')\n",
    "my_map.add_ee_layer(cm2019, vis_params, 'cm 2019')\n",
    "my_map.add_ee_layer(cm2018, vis_params, 'cm 2018')\n",
    "my_map.add_ee_layer(cm2017, vis_params, 'cm 2017')\n",
    "my_map.add_ee_layer(cm2016, vis_params, 'cm 2016')\n",
    "\n",
    "\n",
    "\n",
    "\n",
    "\n",
    "# Add a layer control panel to the map.\n",
    "my_map.add_child(folium.LayerControl())\n",
    "\n",
    "# Display the map.\n",
    "display(my_map)"
   ]
  },
  {
   "cell_type": "code",
   "execution_count": null,
   "metadata": {},
   "outputs": [],
   "source": [
    "# scale in m??\n",
    "# 111319\n",
    "# https://developers.google.com/earth-engine/image_info\n",
    "print(cm2019.select('b1').projection().getInfo())\n",
    "print(cm2019.select('b1').projection().nominalScale().getInfo())\n",
    "print(cm2019.get('system:time_start').getInfo())"
   ]
  },
  {
   "cell_type": "code",
   "execution_count": null,
   "metadata": {},
   "outputs": [],
   "source": [
    "print(cm2019.select('b1').propertyNames().getInfo())"
   ]
  },
  {
   "cell_type": "code",
   "execution_count": null,
   "metadata": {},
   "outputs": [],
   "source": [
    "help(EastAnglia_2019)"
   ]
  },
  {
   "cell_type": "code",
   "execution_count": null,
   "metadata": {},
   "outputs": [],
   "source": [
    "def fun(x):\n",
    "    return(x)\n",
    "\n",
    "print(EastAnglia_2019.select('b_42_lai').bandNames().getInfo())"
   ]
  },
  {
   "cell_type": "code",
   "execution_count": null,
   "metadata": {},
   "outputs": [],
   "source": [
    "print(EastAnglia_2019.select('b_42_lai').getInfo())"
   ]
  },
  {
   "cell_type": "markdown",
   "metadata": {},
   "source": [
    "display and charts\n",
    "\n",
    "https://colab.research.google.com/github/google/earthengine-api/blob/master/python/examples/ipynb/ee-api-colab-setup.ipynb#scrollTo=VIiyf6azf4mU\n",
    "\n"
   ]
  }
 ],
 "metadata": {
  "kernelspec": {
   "display_name": "Python 3",
   "language": "python",
   "name": "python3"
  },
  "language_info": {
   "codemirror_mode": {
    "name": "ipython",
    "version": 3
   },
   "file_extension": ".py",
   "mimetype": "text/x-python",
   "name": "python",
   "nbconvert_exporter": "python",
   "pygments_lexer": "ipython3",
   "version": "3.7.4"
  }
 },
 "nbformat": 4,
 "nbformat_minor": 4
}
